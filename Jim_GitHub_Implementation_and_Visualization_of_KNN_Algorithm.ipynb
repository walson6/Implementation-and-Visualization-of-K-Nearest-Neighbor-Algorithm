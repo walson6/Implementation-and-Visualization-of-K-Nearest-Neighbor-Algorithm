{
  "nbformat": 4,
  "nbformat_minor": 0,
  "metadata": {
    "colab": {
      "provenance": [],
      "include_colab_link": true
    },
    "kernelspec": {
      "name": "python3",
      "display_name": "Python 3"
    },
    "language_info": {
      "name": "python"
    }
  },
  "cells": [
    {
      "cell_type": "markdown",
      "metadata": {
        "id": "view-in-github",
        "colab_type": "text"
      },
      "source": [
        "<a href=\"https://colab.research.google.com/github/walson6/Implementation-and-Visualization-of-K-Nearest-Neighbor-Algorithm/blob/main/Jim_GitHub_Implementation_and_Visualization_of_KNN_Algorithm.ipynb\" target=\"_parent\"><img src=\"https://colab.research.google.com/assets/colab-badge.svg\" alt=\"Open In Colab\"/></a>"
      ]
    },
    {
      "cell_type": "markdown",
      "source": [
        "### Project Title: Implementation and Visualization of K Nearest Neighbor Algorithm\n",
        "\n",
        "**Objective:**  \n",
        "To understand the implementation of the K Nearest Neighbor (KNN) algorithm and learn the basics of the scikit-learn (sklearn) library.\n",
        "\n",
        "**Implementation:**  \n",
        "- Created training and testing datasets with 40 and 500 points respectively using NumPy.\n",
        "- Implemented the L2 distance function to calculate the Euclidean distance between data samples.\n",
        "- Developed the `knn_classifier_predict` function to predict labels for test points by finding the k nearest neighbors and selecting the most common label.\n",
        "- Implemented the `knn_regressor_predict` function to predict values for test points based on the mean of the k nearest neighbors' labels.\n",
        "\n",
        "**Visualization:**  \n",
        "- Utilized Matplotlib to plot the training data and the predicted values, providing a clear visual representation of the KNN regression results.\n",
        "\n",
        "**Skills Demonstrated:**  \n",
        "- Proficiency in Python programming.\n",
        "- Understanding of machine learning concepts, specifically the KNN algorithm.\n",
        "- Experience with data manipulation and analysis using NumPy.\n",
        "- Knowledge of data visualization techniques using Matplotlib.\n",
        "- Familiarity with the scikit-learn library.\n",
        "\n",
        "**Tools and Libraries Used:**  \n",
        "- Python\n",
        "- NumPy\n",
        "- Matplotlib\n",
        "- scikit-learn (sklearn)"
      ],
      "metadata": {
        "id": "kmfk3OLpufEs"
      }
    },
    {
      "cell_type": "code",
      "execution_count": 1,
      "metadata": {
        "id": "dqDz7bN0O2hj"
      },
      "outputs": [],
      "source": [
        "import numpy as np\n",
        "from matplotlib import pyplot as plt"
      ]
    },
    {
      "cell_type": "code",
      "source": [
        "# Initialize random seed\n",
        "rng = np.random.RandomState(0)\n",
        "# Create Training and testing data, 40 and 500 points respectively\n",
        "X_train = np.sort(5 * rng.rand(40, 1), axis=0)\n",
        "X_test = np.linspace(0, 5, 500)[:, np.newaxis]\n",
        "y_train = np.sin(X_train).ravel()\n",
        "# Add noise to targets\n",
        "y_train[::5] += 1 * (0.5 - np.random.rand(8))\n",
        "y_test = np.sin(X_test).ravel()"
      ],
      "metadata": {
        "id": "a1s4SckDQFPf"
      },
      "execution_count": 2,
      "outputs": []
    },
    {
      "cell_type": "code",
      "source": [
        "# Implemetation of L2_distance(s1, s2) function\n",
        "# With s1 and s2 being data samples from the training set, the function finds the Euclidean distance, a straight-line distance between two points. It returns the distance as a scalar.\n",
        "def L2_distance(s1, s2):\n",
        "  # Squaring ensures that all values are non-negative, which is then square rooted to find the actual Euclidean distance value\n",
        "  return np.sqrt(np.sum((np.array(s1) - np.array(s2))**2))"
      ],
      "metadata": {
        "id": "g4z7QbgQUhD1"
      },
      "execution_count": 3,
      "outputs": []
    },
    {
      "cell_type": "code",
      "source": [
        "# Implementation of knn_classifier_predict(training_data, training_labels, test_point, k)\n",
        "# Given a dataset with labeled training samples, this function predicts the label of a test_point by finding the k nearest neighbors from the training set\n",
        "def knn_classifier_predict(training_data, training_labels, test_point, k):\n",
        "  distances = [] # Initialize an empty list\n",
        "  for i in range(len(training_data)):\n",
        "    dist = L2_distance(training_data[i], test_point) # Call L2_distance function to find Euclidean distance from each training dataset point to the test point\n",
        "    distances.append((dist, training_labels[i])) # Appends to distance list in pairs of distance and corresponding label\n",
        "\n",
        "  # Sorts distances list by ascending order according to the first element (distance) of each tuple\n",
        "  distances.sort(key=lambda x: x[0])\n",
        "\n",
        "  # Get the labels of the k nearest neighbors\n",
        "  k_nearest_labels = []\n",
        "  for i in range(k):\n",
        "    k_nearest_labels.append(distances[i][1])\n",
        "\n",
        "  # Count how many times each label occurs\n",
        "  label_counts = {}\n",
        "  for label in k_nearest_labels:\n",
        "    if label in label_counts:\n",
        "      label_counts[label] += 1\n",
        "    else:\n",
        "      label_counts[label] = 1\n",
        "\n",
        "  # Find the label with the highest count\n",
        "  max_count = 0;\n",
        "  most_common_labels = []\n",
        "  for label in label_counts:\n",
        "    if label_counts[label] > max_count:\n",
        "      max_count = label_counts[label]\n",
        "      most_common_labels = [label]\n",
        "    elif label_counts[label] == max_count:\n",
        "      most_common_labels.append(label)\n",
        "\n",
        "  # If no tie, return most common label\n",
        "  if len(most_common_labels) == 1:\n",
        "    return most_common_labels[0]\n",
        "\n",
        "  # If tie, check within closest neighbors and return label of closest tied neighbor\n",
        "  for i in range(k):\n",
        "    if distances[i][1] in most_common_labels:\n",
        "      return distances[i][1]"
      ],
      "metadata": {
        "id": "Uqm27AH_Zr-7"
      },
      "execution_count": 4,
      "outputs": []
    },
    {
      "cell_type": "code",
      "source": [
        "# Implementation of knn_regressor_predict(training_data, training_labels, test_point, k)\n",
        "# This function predicts a value for test_point based on k nearest neighbors from training_data\n",
        "def knn_regressor_predict(training_data, training_labels, test_point, k):\n",
        "  distances = []  # Store distances to each training point\n",
        "\n",
        "  # Finds the Euclidean distance between each training data point and the given test point. It then stores these distances along with the corresponding training labels in a list.\n",
        "  for i in range(len(training_data)):\n",
        "    dist = L2_distance(training_data[i], test_point)\n",
        "    distances.append((dist, training_labels[i]))\n",
        "\n",
        "  # Sort by distance in ascending order\n",
        "  distances.sort(key=lambda x: x[0])\n",
        "\n",
        "  # Get k nearest neighbors' labels\n",
        "  k_nearest_labels = [label for _, label in distances[:k]]\n",
        "\n",
        "  # Return the mean value as prediction\n",
        "  return np.mean(k_nearest_labels)"
      ],
      "metadata": {
        "id": "z5dxE9u_aXe0"
      },
      "execution_count": 5,
      "outputs": []
    },
    {
      "cell_type": "code",
      "source": [
        "y_pred = []\n",
        "for i in range(len(X_test)):\n",
        "  y_pred.append(knn_regressor_predict(X_train, y_train, X_test[i], 5))"
      ],
      "metadata": {
        "id": "fFdtlcnkcbR0"
      },
      "execution_count": 6,
      "outputs": []
    },
    {
      "cell_type": "code",
      "source": [
        "def knn_plot_results(X_train, y_train, X_test, y_pred):\n",
        "  plt.scatter(X_train, y_train, color=\"darkorange\", label=\"data\")\n",
        "  plt.plot(X_test, y_pred, color=\"navy\", label=\"prediction\")\n",
        "  plt.axis(\"tight\")\n",
        "  plt.legend()\n",
        "  plt.title(\"KNeighborsRegressor\")\n",
        "  plt.tight_layout()\n",
        "  plt.show()"
      ],
      "metadata": {
        "id": "8c8Fv-c4dv_z"
      },
      "execution_count": 7,
      "outputs": []
    },
    {
      "cell_type": "code",
      "source": [
        "# Plot\n",
        "knn_plot_results(X_train, y_train, X_test, y_pred)"
      ],
      "metadata": {
        "id": "nS85EjpTe8BU",
        "colab": {
          "base_uri": "https://localhost:8080/",
          "height": 487
        },
        "outputId": "75976311-a33e-41ca-8015-58753122cdaa"
      },
      "execution_count": 8,
      "outputs": [
        {
          "output_type": "display_data",
          "data": {
            "text/plain": [
              "<Figure size 640x480 with 1 Axes>"
            ],
            "image/png": "[encoded data removed]"
          },
          "metadata": {}
        }
      ]
    }
  ]
}